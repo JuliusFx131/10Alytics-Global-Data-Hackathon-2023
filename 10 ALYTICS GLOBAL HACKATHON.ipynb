{
 "cells": [
  {
   "cell_type": "markdown",
   "id": "05ca6c48",
   "metadata": {},
   "source": [
    "# MODULES"
   ]
  },
  {
   "cell_type": "code",
   "execution_count": 1,
   "id": "6a010f24",
   "metadata": {},
   "outputs": [],
   "source": [
    "import os\n",
    "import numpy as np\n",
    "import pandas as pd\n",
    "import seaborn as sns\n",
    "import matplotlib.pyplot as plt"
   ]
  },
  {
   "cell_type": "markdown",
   "id": "fce3dd6c",
   "metadata": {},
   "source": [
    "# DATA EXPLORATION & CLEANING"
   ]
  },
  {
   "cell_type": "code",
   "execution_count": 2,
   "id": "a48b87a8",
   "metadata": {},
   "outputs": [
    {
     "data": {
      "text/plain": [
       "['.ipynb_checkpoints',\n",
       " '10 ALYTICS GLOBAL HACKATHON.ipynb',\n",
       " '10 ALYTICS GLOBAL HACKATHON.zip',\n",
       " 'Datasets',\n",
       " 'final.csv',\n",
       " 'PowerbiFile - Copy.pbix',\n",
       " 'PowerbiFile.pbix',\n",
       " 'PowerbiFile.pdf',\n",
       " 'PowerbiFile_.pdf']"
      ]
     },
     "execution_count": 2,
     "metadata": {},
     "output_type": "execute_result"
    }
   ],
   "source": [
    "os.listdir()"
   ]
  },
  {
   "cell_type": "code",
   "execution_count": 3,
   "id": "a5f5094b",
   "metadata": {},
   "outputs": [
    {
     "data": {
      "text/plain": [
       "['1. unemployment-rate-men-vs-women.csv',\n",
       " '2. national-strategy-for-youth-employment.csv',\n",
       " '3. share-of-education-in-government-expenditure.csv',\n",
       " '4. share-of-the-population-with-access-to-electricity.csv',\n",
       " '5. Total_firms_Historical_data.xlsx',\n",
       " '6. Country Codes.csv',\n",
       " 'Day 1 - 10Alytics Global Data Hackathon 2023 (introduction).pdf',\n",
       " 'December 2023 Global Hackathon - Unemployment.pdf',\n",
       " 'December 2023 Global Hackathon - Unemployment.pptx']"
      ]
     },
     "execution_count": 3,
     "metadata": {},
     "output_type": "execute_result"
    }
   ],
   "source": [
    "os.listdir(\"Datasets\")"
   ]
  },
  {
   "cell_type": "markdown",
   "id": "6e4059a8",
   "metadata": {},
   "source": [
    "## 1. Unemployment Data Exploration"
   ]
  },
  {
   "cell_type": "code",
   "execution_count": 4,
   "id": "9c9e2d2d",
   "metadata": {},
   "outputs": [
    {
     "name": "stdout",
     "output_type": "stream",
     "text": [
      "(6231, 7)\n"
     ]
    },
    {
     "data": {
      "text/html": [
       "<div>\n",
       "<style scoped>\n",
       "    .dataframe tbody tr th:only-of-type {\n",
       "        vertical-align: middle;\n",
       "    }\n",
       "\n",
       "    .dataframe tbody tr th {\n",
       "        vertical-align: top;\n",
       "    }\n",
       "\n",
       "    .dataframe thead th {\n",
       "        text-align: right;\n",
       "    }\n",
       "</style>\n",
       "<table border=\"1\" class=\"dataframe\">\n",
       "  <thead>\n",
       "    <tr style=\"text-align: right;\">\n",
       "      <th></th>\n",
       "      <th>Country</th>\n",
       "      <th>Iso_Code_3</th>\n",
       "      <th>Year</th>\n",
       "      <th>Females</th>\n",
       "      <th>Males</th>\n",
       "      <th>Population</th>\n",
       "      <th>Continent</th>\n",
       "    </tr>\n",
       "  </thead>\n",
       "  <tbody>\n",
       "    <tr>\n",
       "      <th>1</th>\n",
       "      <td>Afghanistan</td>\n",
       "      <td>AFG</td>\n",
       "      <td>1991</td>\n",
       "      <td>13.615</td>\n",
       "      <td>10.089</td>\n",
       "      <td>10745168.0</td>\n",
       "      <td>NaN</td>\n",
       "    </tr>\n",
       "    <tr>\n",
       "      <th>2</th>\n",
       "      <td>Afghanistan</td>\n",
       "      <td>AFG</td>\n",
       "      <td>1992</td>\n",
       "      <td>13.816</td>\n",
       "      <td>10.258</td>\n",
       "      <td>12057436.0</td>\n",
       "      <td>NaN</td>\n",
       "    </tr>\n",
       "    <tr>\n",
       "      <th>3</th>\n",
       "      <td>Afghanistan</td>\n",
       "      <td>AFG</td>\n",
       "      <td>1993</td>\n",
       "      <td>13.712</td>\n",
       "      <td>10.165</td>\n",
       "      <td>14003764.0</td>\n",
       "      <td>NaN</td>\n",
       "    </tr>\n",
       "  </tbody>\n",
       "</table>\n",
       "</div>"
      ],
      "text/plain": [
       "       Country Iso_Code_3  Year  Females   Males  Population Continent\n",
       "1  Afghanistan        AFG  1991   13.615  10.089  10745168.0       NaN\n",
       "2  Afghanistan        AFG  1992   13.816  10.258  12057436.0       NaN\n",
       "3  Afghanistan        AFG  1993   13.712  10.165  14003764.0       NaN"
      ]
     },
     "execution_count": 4,
     "metadata": {},
     "output_type": "execute_result"
    }
   ],
   "source": [
    "unemployment = pd.read_csv(r\"D:\\ZINDI\\10 Alytics Data Analytic 2023\\Datasets\\1. unemployment-rate-men-vs-women.csv\")\n",
    "\n",
    "# rename columns\n",
    "unemployment.columns=['Country', 'Iso_Code_3', 'Year','Females','Males',\"Population\",'Continent']\n",
    "\n",
    "#only consider the rows where the estimated valeus for females and males are provided\n",
    "unemployment=unemployment[(unemployment[\"Females\"]>0) & (unemployment[\"Males\"]>0)]\n",
    "\n",
    "unemployment.sort_values(by=[\"Country\",\"Year\"],inplace=True)\n",
    "print(unemployment.shape)\n",
    "unemployment.head(3)"
   ]
  },
  {
   "cell_type": "code",
   "execution_count": 5,
   "id": "ada5e7cf",
   "metadata": {},
   "outputs": [
    {
     "data": {
      "text/plain": [
       "Country          0\n",
       "Iso_Code_3     403\n",
       "Year             0\n",
       "Females          0\n",
       "Males            0\n",
       "Population     279\n",
       "Continent     6044\n",
       "dtype: int64"
      ]
     },
     "execution_count": 5,
     "metadata": {},
     "output_type": "execute_result"
    }
   ],
   "source": [
    "unemployment.isna().sum()"
   ]
  },
  {
   "cell_type": "code",
   "execution_count": 6,
   "id": "3ae9e707",
   "metadata": {},
   "outputs": [],
   "source": [
    "unemployment.drop(columns=['Continent'],inplace=True)"
   ]
  },
  {
   "cell_type": "code",
   "execution_count": 7,
   "id": "cb089cfd",
   "metadata": {},
   "outputs": [],
   "source": [
    "unemployment.dropna(subset=['Iso_Code_3'], inplace=True)"
   ]
  },
  {
   "cell_type": "markdown",
   "id": "9e499b34",
   "metadata": {},
   "source": [
    "## 2. Strategy Data Exploration"
   ]
  },
  {
   "cell_type": "code",
   "execution_count": 8,
   "id": "ef810b08",
   "metadata": {},
   "outputs": [
    {
     "name": "stdout",
     "output_type": "stream",
     "text": [
      "(363, 4)\n"
     ]
    },
    {
     "data": {
      "text/html": [
       "<div>\n",
       "<style scoped>\n",
       "    .dataframe tbody tr th:only-of-type {\n",
       "        vertical-align: middle;\n",
       "    }\n",
       "\n",
       "    .dataframe tbody tr th {\n",
       "        vertical-align: top;\n",
       "    }\n",
       "\n",
       "    .dataframe thead th {\n",
       "        text-align: right;\n",
       "    }\n",
       "</style>\n",
       "<table border=\"1\" class=\"dataframe\">\n",
       "  <thead>\n",
       "    <tr style=\"text-align: right;\">\n",
       "      <th></th>\n",
       "      <th>Country</th>\n",
       "      <th>Iso_Code_3</th>\n",
       "      <th>Year</th>\n",
       "      <th>Strategy Existence</th>\n",
       "    </tr>\n",
       "  </thead>\n",
       "  <tbody>\n",
       "    <tr>\n",
       "      <th>0</th>\n",
       "      <td>Afghanistan</td>\n",
       "      <td>AFG</td>\n",
       "      <td>2019</td>\n",
       "      <td>Developing a Strategy</td>\n",
       "    </tr>\n",
       "    <tr>\n",
       "      <th>1</th>\n",
       "      <td>Afghanistan</td>\n",
       "      <td>AFG</td>\n",
       "      <td>2020</td>\n",
       "      <td>Developing a Strategy</td>\n",
       "    </tr>\n",
       "    <tr>\n",
       "      <th>2</th>\n",
       "      <td>Argentina</td>\n",
       "      <td>ARG</td>\n",
       "      <td>2019</td>\n",
       "      <td>No Strategy</td>\n",
       "    </tr>\n",
       "  </tbody>\n",
       "</table>\n",
       "</div>"
      ],
      "text/plain": [
       "       Country Iso_Code_3  Year     Strategy Existence\n",
       "0  Afghanistan        AFG  2019  Developing a Strategy\n",
       "1  Afghanistan        AFG  2020  Developing a Strategy\n",
       "2    Argentina        ARG  2019            No Strategy"
      ]
     },
     "execution_count": 8,
     "metadata": {},
     "output_type": "execute_result"
    }
   ],
   "source": [
    "strategy = pd.read_csv(r\"D:\\ZINDI\\10 Alytics Data Analytic 2023\\Datasets\\2. national-strategy-for-youth-employment.csv\")\n",
    "strategy.columns=['Country', 'Iso_Code_3', 'Year','Strategy Existence']\n",
    "strategy.sort_values(by=[\"Country\",\"Year\"],inplace=True)\n",
    "print(strategy.shape)\n",
    "strategy.head(3)"
   ]
  },
  {
   "cell_type": "code",
   "execution_count": 9,
   "id": "0ea9b163",
   "metadata": {},
   "outputs": [
    {
     "data": {
      "text/plain": [
       "Country               0\n",
       "Iso_Code_3            0\n",
       "Year                  0\n",
       "Strategy Existence    0\n",
       "dtype: int64"
      ]
     },
     "execution_count": 9,
     "metadata": {},
     "output_type": "execute_result"
    }
   ],
   "source": [
    "strategy.isna().sum()"
   ]
  },
  {
   "cell_type": "markdown",
   "id": "b12e9c72",
   "metadata": {},
   "source": [
    "## 3. Expenditure Data Exploration"
   ]
  },
  {
   "cell_type": "code",
   "execution_count": 10,
   "id": "98b8587a",
   "metadata": {},
   "outputs": [
    {
     "name": "stdout",
     "output_type": "stream",
     "text": [
      "(4104, 4)\n"
     ]
    },
    {
     "data": {
      "text/html": [
       "<div>\n",
       "<style scoped>\n",
       "    .dataframe tbody tr th:only-of-type {\n",
       "        vertical-align: middle;\n",
       "    }\n",
       "\n",
       "    .dataframe tbody tr th {\n",
       "        vertical-align: top;\n",
       "    }\n",
       "\n",
       "    .dataframe thead th {\n",
       "        text-align: right;\n",
       "    }\n",
       "</style>\n",
       "<table border=\"1\" class=\"dataframe\">\n",
       "  <thead>\n",
       "    <tr style=\"text-align: right;\">\n",
       "      <th></th>\n",
       "      <th>Country</th>\n",
       "      <th>Iso_Code_3</th>\n",
       "      <th>Year</th>\n",
       "      <th>Edu Expenditure Perc</th>\n",
       "    </tr>\n",
       "  </thead>\n",
       "  <tbody>\n",
       "    <tr>\n",
       "      <th>0</th>\n",
       "      <td>Afghanistan</td>\n",
       "      <td>AFG</td>\n",
       "      <td>2005</td>\n",
       "      <td>15.08</td>\n",
       "    </tr>\n",
       "    <tr>\n",
       "      <th>1</th>\n",
       "      <td>Afghanistan</td>\n",
       "      <td>AFG</td>\n",
       "      <td>2006</td>\n",
       "      <td>12.88</td>\n",
       "    </tr>\n",
       "    <tr>\n",
       "      <th>2</th>\n",
       "      <td>Afghanistan</td>\n",
       "      <td>AFG</td>\n",
       "      <td>2007</td>\n",
       "      <td>12.36</td>\n",
       "    </tr>\n",
       "  </tbody>\n",
       "</table>\n",
       "</div>"
      ],
      "text/plain": [
       "       Country Iso_Code_3  Year  Edu Expenditure Perc\n",
       "0  Afghanistan        AFG  2005                 15.08\n",
       "1  Afghanistan        AFG  2006                 12.88\n",
       "2  Afghanistan        AFG  2007                 12.36"
      ]
     },
     "execution_count": 10,
     "metadata": {},
     "output_type": "execute_result"
    }
   ],
   "source": [
    "expenditure= pd.read_csv(r\"D:\\ZINDI\\10 Alytics Data Analytic 2023\\Datasets\\3. share-of-education-in-government-expenditure.csv\")\n",
    "expenditure.columns=['Country', 'Iso_Code_3', 'Year','Edu Expenditure Perc']\n",
    "expenditure.sort_values(by=[\"Country\",\"Year\"],inplace=True)\n",
    "print(expenditure.shape)\n",
    "expenditure.head(3)"
   ]
  },
  {
   "cell_type": "code",
   "execution_count": 11,
   "id": "03d05865",
   "metadata": {},
   "outputs": [
    {
     "data": {
      "text/plain": [
       "Country                   0\n",
       "Iso_Code_3              295\n",
       "Year                      0\n",
       "Edu Expenditure Perc      0\n",
       "dtype: int64"
      ]
     },
     "execution_count": 11,
     "metadata": {},
     "output_type": "execute_result"
    }
   ],
   "source": [
    "expenditure.isna().sum()"
   ]
  },
  {
   "cell_type": "code",
   "execution_count": 12,
   "id": "f9a90d21",
   "metadata": {},
   "outputs": [],
   "source": [
    "expenditure.dropna(subset=['Iso_Code_3'], inplace=True)"
   ]
  },
  {
   "cell_type": "markdown",
   "id": "9405fba3",
   "metadata": {},
   "source": [
    "## 4. Electricity Data Exploration"
   ]
  },
  {
   "cell_type": "code",
   "execution_count": 13,
   "id": "40a15d58",
   "metadata": {},
   "outputs": [
    {
     "name": "stdout",
     "output_type": "stream",
     "text": [
      "(6233, 4)\n"
     ]
    },
    {
     "data": {
      "text/html": [
       "<div>\n",
       "<style scoped>\n",
       "    .dataframe tbody tr th:only-of-type {\n",
       "        vertical-align: middle;\n",
       "    }\n",
       "\n",
       "    .dataframe tbody tr th {\n",
       "        vertical-align: top;\n",
       "    }\n",
       "\n",
       "    .dataframe thead th {\n",
       "        text-align: right;\n",
       "    }\n",
       "</style>\n",
       "<table border=\"1\" class=\"dataframe\">\n",
       "  <thead>\n",
       "    <tr style=\"text-align: right;\">\n",
       "      <th></th>\n",
       "      <th>Country</th>\n",
       "      <th>Iso_Code_3</th>\n",
       "      <th>Year</th>\n",
       "      <th>Electricity Access Perc</th>\n",
       "    </tr>\n",
       "  </thead>\n",
       "  <tbody>\n",
       "    <tr>\n",
       "      <th>0</th>\n",
       "      <td>Afghanistan</td>\n",
       "      <td>AFG</td>\n",
       "      <td>2000</td>\n",
       "      <td>1.613591</td>\n",
       "    </tr>\n",
       "    <tr>\n",
       "      <th>1</th>\n",
       "      <td>Afghanistan</td>\n",
       "      <td>AFG</td>\n",
       "      <td>2001</td>\n",
       "      <td>4.074574</td>\n",
       "    </tr>\n",
       "    <tr>\n",
       "      <th>2</th>\n",
       "      <td>Afghanistan</td>\n",
       "      <td>AFG</td>\n",
       "      <td>2002</td>\n",
       "      <td>9.409158</td>\n",
       "    </tr>\n",
       "  </tbody>\n",
       "</table>\n",
       "</div>"
      ],
      "text/plain": [
       "       Country Iso_Code_3  Year  Electricity Access Perc\n",
       "0  Afghanistan        AFG  2000                 1.613591\n",
       "1  Afghanistan        AFG  2001                 4.074574\n",
       "2  Afghanistan        AFG  2002                 9.409158"
      ]
     },
     "execution_count": 13,
     "metadata": {},
     "output_type": "execute_result"
    }
   ],
   "source": [
    "electricity= pd.read_csv(r\"D:\\ZINDI\\10 Alytics Data Analytic 2023\\Datasets\\4. share-of-the-population-with-access-to-electricity.csv\")\n",
    "electricity.columns=['Country', 'Iso_Code_3', 'Year','Electricity Access Perc']\n",
    "electricity.sort_values(by=[\"Country\",\"Year\"],inplace=True)\n",
    "print(electricity.shape)\n",
    "electricity.head(3)"
   ]
  },
  {
   "cell_type": "code",
   "execution_count": 14,
   "id": "60e56579",
   "metadata": {},
   "outputs": [
    {
     "data": {
      "text/plain": [
       "Country                      0\n",
       "Iso_Code_3                 370\n",
       "Year                         0\n",
       "Electricity Access Perc      0\n",
       "dtype: int64"
      ]
     },
     "execution_count": 14,
     "metadata": {},
     "output_type": "execute_result"
    }
   ],
   "source": [
    "electricity.isna().sum()"
   ]
  },
  {
   "cell_type": "code",
   "execution_count": 15,
   "id": "661c931e",
   "metadata": {},
   "outputs": [],
   "source": [
    "electricity.dropna(subset=['Iso_Code_3'], inplace=True)"
   ]
  },
  {
   "cell_type": "markdown",
   "id": "e9d2b08e",
   "metadata": {},
   "source": [
    "## 5. Firms Data Exploration"
   ]
  },
  {
   "cell_type": "code",
   "execution_count": 16,
   "id": "4f6814dd",
   "metadata": {},
   "outputs": [
    {
     "name": "stdout",
     "output_type": "stream",
     "text": [
      "(1523, 5)\n"
     ]
    },
    {
     "data": {
      "text/html": [
       "<div>\n",
       "<style scoped>\n",
       "    .dataframe tbody tr th:only-of-type {\n",
       "        vertical-align: middle;\n",
       "    }\n",
       "\n",
       "    .dataframe tbody tr th {\n",
       "        vertical-align: top;\n",
       "    }\n",
       "\n",
       "    .dataframe thead th {\n",
       "        text-align: right;\n",
       "    }\n",
       "</style>\n",
       "<table border=\"1\" class=\"dataframe\">\n",
       "  <thead>\n",
       "    <tr style=\"text-align: right;\">\n",
       "      <th></th>\n",
       "      <th>Country</th>\n",
       "      <th>Adult Population</th>\n",
       "      <th>Year</th>\n",
       "      <th>LLC Count</th>\n",
       "      <th>LLC Density</th>\n",
       "    </tr>\n",
       "  </thead>\n",
       "  <tbody>\n",
       "    <tr>\n",
       "      <th>0</th>\n",
       "      <td>Afghanistan</td>\n",
       "      <td>14039528.0</td>\n",
       "      <td>2009.0</td>\n",
       "      <td>4289.0</td>\n",
       "      <td>0.305495</td>\n",
       "    </tr>\n",
       "    <tr>\n",
       "      <th>1</th>\n",
       "      <td>Afghanistan</td>\n",
       "      <td>14444996.0</td>\n",
       "      <td>2010.0</td>\n",
       "      <td>9048.0</td>\n",
       "      <td>0.626376</td>\n",
       "    </tr>\n",
       "    <tr>\n",
       "      <th>2</th>\n",
       "      <td>Afghanistan</td>\n",
       "      <td>15041824.0</td>\n",
       "      <td>2011.0</td>\n",
       "      <td>12793.0</td>\n",
       "      <td>0.850495</td>\n",
       "    </tr>\n",
       "  </tbody>\n",
       "</table>\n",
       "</div>"
      ],
      "text/plain": [
       "       Country  Adult Population    Year  LLC Count  LLC Density\n",
       "0  Afghanistan        14039528.0  2009.0     4289.0     0.305495\n",
       "1  Afghanistan        14444996.0  2010.0     9048.0     0.626376\n",
       "2  Afghanistan        15041824.0  2011.0    12793.0     0.850495"
      ]
     },
     "execution_count": 16,
     "metadata": {},
     "output_type": "execute_result"
    }
   ],
   "source": [
    "firms= pd.read_excel(r\"D:\\ZINDI\\10 Alytics Data Analytic 2023\\Datasets\\5. Total_firms_Historical_data.xlsx\")\n",
    "firms.columns=['Country', 'Adult Population', 'Year','LLC Count','LLC Density']\n",
    "firms.sort_values(by=[\"Country\",\"Year\"],inplace=True)\n",
    "firms=firms.iloc[3:]\n",
    "print(firms.shape)\n",
    "firms.head(3)"
   ]
  },
  {
   "cell_type": "code",
   "execution_count": 17,
   "id": "f022d1b3",
   "metadata": {},
   "outputs": [
    {
     "data": {
      "text/plain": [
       "Country             1\n",
       "Adult Population    1\n",
       "Year                1\n",
       "LLC Count           1\n",
       "LLC Density         1\n",
       "dtype: int64"
      ]
     },
     "execution_count": 17,
     "metadata": {},
     "output_type": "execute_result"
    }
   ],
   "source": [
    "firms.isna().sum()"
   ]
  },
  {
   "cell_type": "code",
   "execution_count": 18,
   "id": "519f7476",
   "metadata": {},
   "outputs": [
    {
     "data": {
      "text/html": [
       "<div>\n",
       "<style scoped>\n",
       "    .dataframe tbody tr th:only-of-type {\n",
       "        vertical-align: middle;\n",
       "    }\n",
       "\n",
       "    .dataframe tbody tr th {\n",
       "        vertical-align: top;\n",
       "    }\n",
       "\n",
       "    .dataframe thead th {\n",
       "        text-align: right;\n",
       "    }\n",
       "</style>\n",
       "<table border=\"1\" class=\"dataframe\">\n",
       "  <thead>\n",
       "    <tr style=\"text-align: right;\">\n",
       "      <th></th>\n",
       "      <th>Country</th>\n",
       "      <th>Adult Population</th>\n",
       "      <th>Year</th>\n",
       "      <th>LLC Count</th>\n",
       "      <th>LLC Density</th>\n",
       "    </tr>\n",
       "  </thead>\n",
       "  <tbody>\n",
       "    <tr>\n",
       "      <th>1522</th>\n",
       "      <td>NaN</td>\n",
       "      <td>NaN</td>\n",
       "      <td>NaN</td>\n",
       "      <td>NaN</td>\n",
       "      <td>NaN</td>\n",
       "    </tr>\n",
       "  </tbody>\n",
       "</table>\n",
       "</div>"
      ],
      "text/plain": [
       "     Country  Adult Population  Year  LLC Count  LLC Density\n",
       "1522     NaN               NaN   NaN        NaN          NaN"
      ]
     },
     "execution_count": 18,
     "metadata": {},
     "output_type": "execute_result"
    }
   ],
   "source": [
    "firms[pd.isna(firms['Country'])]"
   ]
  },
  {
   "cell_type": "code",
   "execution_count": 19,
   "id": "51bca30d",
   "metadata": {},
   "outputs": [],
   "source": [
    "firms.dropna(inplace=True)"
   ]
  },
  {
   "cell_type": "code",
   "execution_count": 20,
   "id": "035b92af",
   "metadata": {},
   "outputs": [],
   "source": [
    "firms[\"Year\"]=firms[\"Year\"].apply(lambda x: int(x))"
   ]
  },
  {
   "cell_type": "code",
   "execution_count": 21,
   "id": "4ef0b5b4",
   "metadata": {},
   "outputs": [],
   "source": [
    "# Remove stars (asterisks) from countries with two or three stars\n",
    "firms['Country'] = firms['Country'].str.replace(r'\\*{2,3}$', '', regex=True)\n",
    "\n",
    "# Create a new column \"Eurostat_Center\" based on the presence of one star\n",
    "firms['Eurostat Center'] = firms['Country'].str.contains(r'\\*$').map({True: 'Yes', False: 'No'})\n",
    "\n",
    "# Remove the star in the original \"Country\" column\n",
    "firms['Country'] = firms['Country'].str.replace(r'\\*$', '', regex=True)"
   ]
  },
  {
   "cell_type": "code",
   "execution_count": 22,
   "id": "7d7db063",
   "metadata": {},
   "outputs": [],
   "source": [
    "firms.loc[firms[\"Country\"]==\"Netherlands Antilles\",\"Country\"]=\"Netherlands\"\n",
    "firms.loc[firms[\"Country\"]==\"Hong Kong SAR\",\"Country\"]=\"Hong Kong\"\n",
    "firms.loc[firms[\"Country\"]==\"Hong Kong SAR, China\",\"Country\"]=\"Hong Kong\"\n",
    "firms.loc[firms[\"Country\"]==\"Egypt, Arab Rep.\",\"Country\"]=\"Egypt\" \n",
    "firms.loc[firms[\"Country\"]==\"Iran, Islamic Rep.\",\"Country\"]=\"Iran\" \n",
    "firms.loc[firms[\"Country\"]=='Brazil ',\"Country\"]=\"Brazil\" \n",
    "firms.loc[firms[\"Country\"]=='Taiwan, China',\"Country\"]=\"Taiwan, Province of China\" \n",
    "firms.loc[firms['Country'].str.contains('Taiwan'),\"Country\"]=\"Taiwan\"\n",
    "firms.loc[firms['Country'].str.contains('Congo,'),'Country']='Congo_Demo'\n",
    "firms.loc[firms['Country'].str.contains('Korea,'),'Country']='Korea_Democratic'\n",
    "firms.loc[firms['Country'].str.contains('Slovak'),'Country']='Slovakia'\n",
    "firms.loc[firms[\"Country\"]=='Kyrgyz Republic',\"Country\"]=\"Kyrgyzstan\" "
   ]
  },
  {
   "cell_type": "markdown",
   "id": "51ddb24d",
   "metadata": {},
   "source": [
    "## 6. Countries Data Exploration"
   ]
  },
  {
   "cell_type": "code",
   "execution_count": 23,
   "id": "60e6861e",
   "metadata": {},
   "outputs": [
    {
     "data": {
      "text/html": [
       "<div>\n",
       "<style scoped>\n",
       "    .dataframe tbody tr th:only-of-type {\n",
       "        vertical-align: middle;\n",
       "    }\n",
       "\n",
       "    .dataframe tbody tr th {\n",
       "        vertical-align: top;\n",
       "    }\n",
       "\n",
       "    .dataframe thead th {\n",
       "        text-align: right;\n",
       "    }\n",
       "</style>\n",
       "<table border=\"1\" class=\"dataframe\">\n",
       "  <thead>\n",
       "    <tr style=\"text-align: right;\">\n",
       "      <th></th>\n",
       "      <th>Country</th>\n",
       "      <th>Iso_Code_2</th>\n",
       "      <th>Iso_Code_3</th>\n",
       "      <th>Country Code</th>\n",
       "      <th>Region</th>\n",
       "      <th>Sub Region</th>\n",
       "    </tr>\n",
       "  </thead>\n",
       "  <tbody>\n",
       "    <tr>\n",
       "      <th>0</th>\n",
       "      <td>Afghanistan</td>\n",
       "      <td>AF</td>\n",
       "      <td>AFG</td>\n",
       "      <td>4</td>\n",
       "      <td>Asia</td>\n",
       "      <td>Southern Asia</td>\n",
       "    </tr>\n",
       "    <tr>\n",
       "      <th>1</th>\n",
       "      <td>Åland Islands</td>\n",
       "      <td>AX</td>\n",
       "      <td>ALA</td>\n",
       "      <td>248</td>\n",
       "      <td>Europe</td>\n",
       "      <td>Northern Europe</td>\n",
       "    </tr>\n",
       "    <tr>\n",
       "      <th>2</th>\n",
       "      <td>Albania</td>\n",
       "      <td>AL</td>\n",
       "      <td>ALB</td>\n",
       "      <td>8</td>\n",
       "      <td>Europe</td>\n",
       "      <td>Southern Europe</td>\n",
       "    </tr>\n",
       "  </tbody>\n",
       "</table>\n",
       "</div>"
      ],
      "text/plain": [
       "         Country Iso_Code_2 Iso_Code_3  Country Code  Region       Sub Region\n",
       "0    Afghanistan         AF        AFG             4    Asia    Southern Asia\n",
       "1  Åland Islands         AX        ALA           248  Europe  Northern Europe\n",
       "2        Albania         AL        ALB             8  Europe  Southern Europe"
      ]
     },
     "execution_count": 23,
     "metadata": {},
     "output_type": "execute_result"
    }
   ],
   "source": [
    "countries= pd.read_csv(r\"D:\\ZINDI\\10 Alytics Data Analytic 2023\\Datasets\\6. Country Codes.csv\")\n",
    "countries.columns=['Country', 'Iso_Code_2', 'Iso_Code_3','Country Code','Region','Sub Region']\n",
    "countries.head(3)"
   ]
  },
  {
   "cell_type": "code",
   "execution_count": 24,
   "id": "5614ddac",
   "metadata": {},
   "outputs": [
    {
     "data": {
      "text/plain": [
       "Country         0\n",
       "Iso_Code_2      1\n",
       "Iso_Code_3      0\n",
       "Country Code    0\n",
       "Region          1\n",
       "Sub Region      1\n",
       "dtype: int64"
      ]
     },
     "execution_count": 24,
     "metadata": {},
     "output_type": "execute_result"
    }
   ],
   "source": [
    "countries.isna().sum()"
   ]
  },
  {
   "cell_type": "code",
   "execution_count": 25,
   "id": "0219b0bd",
   "metadata": {},
   "outputs": [
    {
     "data": {
      "text/html": [
       "<div>\n",
       "<style scoped>\n",
       "    .dataframe tbody tr th:only-of-type {\n",
       "        vertical-align: middle;\n",
       "    }\n",
       "\n",
       "    .dataframe tbody tr th {\n",
       "        vertical-align: top;\n",
       "    }\n",
       "\n",
       "    .dataframe thead th {\n",
       "        text-align: right;\n",
       "    }\n",
       "</style>\n",
       "<table border=\"1\" class=\"dataframe\">\n",
       "  <thead>\n",
       "    <tr style=\"text-align: right;\">\n",
       "      <th></th>\n",
       "      <th>Country</th>\n",
       "      <th>Iso_Code_2</th>\n",
       "      <th>Iso_Code_3</th>\n",
       "      <th>Country Code</th>\n",
       "      <th>Region</th>\n",
       "      <th>Sub Region</th>\n",
       "    </tr>\n",
       "  </thead>\n",
       "  <tbody>\n",
       "    <tr>\n",
       "      <th>8</th>\n",
       "      <td>Antarctica</td>\n",
       "      <td>AQ</td>\n",
       "      <td>ATA</td>\n",
       "      <td>10</td>\n",
       "      <td>NaN</td>\n",
       "      <td>NaN</td>\n",
       "    </tr>\n",
       "  </tbody>\n",
       "</table>\n",
       "</div>"
      ],
      "text/plain": [
       "      Country Iso_Code_2 Iso_Code_3  Country Code Region Sub Region\n",
       "8  Antarctica         AQ        ATA            10    NaN        NaN"
      ]
     },
     "execution_count": 25,
     "metadata": {},
     "output_type": "execute_result"
    }
   ],
   "source": [
    "countries[pd.isna(countries[\"Region\"])]"
   ]
  },
  {
   "cell_type": "code",
   "execution_count": 26,
   "id": "ca40619c",
   "metadata": {},
   "outputs": [
    {
     "data": {
      "text/plain": [
       "array(['Asia', 'Europe', 'Africa', 'Oceania', 'Americas', nan],\n",
       "      dtype=object)"
      ]
     },
     "execution_count": 26,
     "metadata": {},
     "output_type": "execute_result"
    }
   ],
   "source": [
    "countries.Region.unique()"
   ]
  },
  {
   "cell_type": "code",
   "execution_count": 27,
   "id": "d5519083",
   "metadata": {},
   "outputs": [],
   "source": [
    "countries[\"Region\"].fillna(\"Antarctica\",inplace=True)\n",
    "countries[\"Sub Region\"].fillna(\"Antarctica\",inplace=True)"
   ]
  },
  {
   "cell_type": "code",
   "execution_count": 28,
   "id": "b118ec55",
   "metadata": {},
   "outputs": [
    {
     "data": {
      "text/html": [
       "<div>\n",
       "<style scoped>\n",
       "    .dataframe tbody tr th:only-of-type {\n",
       "        vertical-align: middle;\n",
       "    }\n",
       "\n",
       "    .dataframe tbody tr th {\n",
       "        vertical-align: top;\n",
       "    }\n",
       "\n",
       "    .dataframe thead th {\n",
       "        text-align: right;\n",
       "    }\n",
       "</style>\n",
       "<table border=\"1\" class=\"dataframe\">\n",
       "  <thead>\n",
       "    <tr style=\"text-align: right;\">\n",
       "      <th></th>\n",
       "      <th>Country</th>\n",
       "      <th>Iso_Code_2</th>\n",
       "      <th>Iso_Code_3</th>\n",
       "      <th>Country Code</th>\n",
       "      <th>Region</th>\n",
       "      <th>Sub Region</th>\n",
       "    </tr>\n",
       "  </thead>\n",
       "  <tbody>\n",
       "    <tr>\n",
       "      <th>153</th>\n",
       "      <td>Namibia</td>\n",
       "      <td>NaN</td>\n",
       "      <td>NAM</td>\n",
       "      <td>516</td>\n",
       "      <td>Africa</td>\n",
       "      <td>Sub-Saharan Africa</td>\n",
       "    </tr>\n",
       "  </tbody>\n",
       "</table>\n",
       "</div>"
      ],
      "text/plain": [
       "     Country Iso_Code_2 Iso_Code_3  Country Code  Region          Sub Region\n",
       "153  Namibia        NaN        NAM           516  Africa  Sub-Saharan Africa"
      ]
     },
     "execution_count": 28,
     "metadata": {},
     "output_type": "execute_result"
    }
   ],
   "source": [
    "countries[pd.isna(countries[\"Iso_Code_2\"])]"
   ]
  },
  {
   "cell_type": "code",
   "execution_count": 29,
   "id": "a40bc34d",
   "metadata": {},
   "outputs": [],
   "source": [
    "countries[\"Iso_Code_2\"].fillna(\"NA\",inplace=True)"
   ]
  },
  {
   "cell_type": "code",
   "execution_count": 30,
   "id": "610d9d2c",
   "metadata": {},
   "outputs": [],
   "source": [
    "countries.loc[countries[\"Country\"]==\"Czechia\",\"Country\"]=\"Czech Republic\"\n",
    "countries.loc[countries[\"Country\"]==\"Iran (Islamic Republic of)\",\"Country\"]=\"Iran\"\n",
    "countries.loc[countries['Country'].str.contains('Taiwan'),\"Country\"]=\"Taiwan\"\n",
    "countries.loc[countries['Country'].str.contains('Congo,'),'Country']='Congo_Demo'\n",
    "countries.loc[countries['Country'].str.contains('Korea, Republic of'),'Country']='Korea_Republic'\n",
    "countries.loc[countries[\"Iso_Code_3\"]==\"PRK\",\"Country\"]=\"Korea_Democratic\"\n",
    "countries.loc[countries['Country'].str.contains('United Kingdom'),'Country']='United Kingdom'\n",
    "countries.loc[countries['Country'].str.contains('Bolivia'),'Country']='Bolivia'"
   ]
  },
  {
   "cell_type": "code",
   "execution_count": 31,
   "id": "08fb2f6f",
   "metadata": {},
   "outputs": [],
   "source": [
    "# Remove comma and everything after it for long country names\n",
    "countries['Country'] = countries['Country'].str.replace(r',.*$', '', regex=True)"
   ]
  },
  {
   "cell_type": "markdown",
   "id": "4547a2c8",
   "metadata": {},
   "source": [
    "# Merge the Datasets"
   ]
  },
  {
   "cell_type": "code",
   "execution_count": 32,
   "id": "2e704156",
   "metadata": {},
   "outputs": [
    {
     "name": "stdout",
     "output_type": "stream",
     "text": [
      "Values in unemployment's column not present in countries's column:\n",
      "['OWID_CIS' 'OWID_WRL']\n"
     ]
    }
   ],
   "source": [
    "# Column to check\n",
    "column_to_check = 'Iso_Code_3'\n",
    "\n",
    "# Get values in df1's column that are not present in df2's column\n",
    "values_not_in_unemployment = unemployment[~unemployment[column_to_check].isin(countries[column_to_check])][column_to_check]\n",
    "\n",
    "print(\"Values in unemployment's column not present in countries's column:\")\n",
    "print(values_not_in_unemployment.unique())"
   ]
  },
  {
   "cell_type": "code",
   "execution_count": 33,
   "id": "5c997b28",
   "metadata": {},
   "outputs": [
    {
     "name": "stdout",
     "output_type": "stream",
     "text": [
      "Values in strategy's column not present in countries's column:\n",
      "[]\n"
     ]
    }
   ],
   "source": [
    "# Get values in strategy's column that are not present in countries's column\n",
    "values_not_in_strategy = strategy[~strategy[column_to_check].isin(countries[column_to_check])][column_to_check]\n",
    "\n",
    "print(\"Values in strategy's column not present in countries's column:\")\n",
    "print(values_not_in_strategy.unique())"
   ]
  },
  {
   "cell_type": "code",
   "execution_count": 34,
   "id": "ea7eddda",
   "metadata": {},
   "outputs": [
    {
     "name": "stdout",
     "output_type": "stream",
     "text": [
      "Values in expenditure's column not present in countries's column:\n",
      "['OWID_WRL']\n"
     ]
    }
   ],
   "source": [
    "# Get values in expenditure's column that are not present in countries's column\n",
    "values_not_in_expenditure = expenditure[~expenditure[column_to_check].isin(countries[column_to_check])][column_to_check]\n",
    "\n",
    "print(\"Values in expenditure's column not present in countries's column:\")\n",
    "print(values_not_in_expenditure.unique())"
   ]
  },
  {
   "cell_type": "code",
   "execution_count": 35,
   "id": "a02de563",
   "metadata": {},
   "outputs": [
    {
     "name": "stdout",
     "output_type": "stream",
     "text": [
      "Values in electricity's column not present in countries's column:\n",
      "['OWID_CIS' 'OWID_KOS' 'OWID_WRL']\n"
     ]
    }
   ],
   "source": [
    "# Get values in electricity's column that are not present in countries's column\n",
    "values_not_in_electricity = electricity[~electricity[column_to_check].isin(countries[column_to_check])][column_to_check]\n",
    "\n",
    "print(\"Values in electricity's column not present in countries's column:\")\n",
    "print(values_not_in_electricity.unique())"
   ]
  },
  {
   "cell_type": "code",
   "execution_count": 36,
   "id": "14bda91c",
   "metadata": {},
   "outputs": [
    {
     "name": "stdout",
     "output_type": "stream",
     "text": [
      "Values in firms's column not present in countries's column:\n",
      "['Kosovo']\n"
     ]
    }
   ],
   "source": [
    "# Column to check\n",
    "column_to_check2 = 'Country'\n",
    "\n",
    "# Get values in electricity's column that are not present in countries's column\n",
    "values_not_in_firms= firms[~firms[column_to_check2].isin(countries[column_to_check2])][column_to_check2]\n",
    "\n",
    "print(\"Values in firms's column not present in countries's column:\")\n",
    "print(values_not_in_firms.unique())"
   ]
  },
  {
   "cell_type": "code",
   "execution_count": 37,
   "id": "00bf39eb",
   "metadata": {},
   "outputs": [
    {
     "data": {
      "text/html": [
       "<div>\n",
       "<style scoped>\n",
       "    .dataframe tbody tr th:only-of-type {\n",
       "        vertical-align: middle;\n",
       "    }\n",
       "\n",
       "    .dataframe tbody tr th {\n",
       "        vertical-align: top;\n",
       "    }\n",
       "\n",
       "    .dataframe thead th {\n",
       "        text-align: right;\n",
       "    }\n",
       "</style>\n",
       "<table border=\"1\" class=\"dataframe\">\n",
       "  <thead>\n",
       "    <tr style=\"text-align: right;\">\n",
       "      <th></th>\n",
       "      <th>Country</th>\n",
       "      <th>Iso_Code_3</th>\n",
       "      <th>Year</th>\n",
       "      <th>Females</th>\n",
       "      <th>Males</th>\n",
       "      <th>Population</th>\n",
       "    </tr>\n",
       "  </thead>\n",
       "  <tbody>\n",
       "    <tr>\n",
       "      <th>1</th>\n",
       "      <td>Afghanistan</td>\n",
       "      <td>AFG</td>\n",
       "      <td>1991</td>\n",
       "      <td>13.615</td>\n",
       "      <td>10.089</td>\n",
       "      <td>10745168.0</td>\n",
       "    </tr>\n",
       "  </tbody>\n",
       "</table>\n",
       "</div>"
      ],
      "text/plain": [
       "       Country Iso_Code_3  Year  Females   Males  Population\n",
       "1  Afghanistan        AFG  1991   13.615  10.089  10745168.0"
      ]
     },
     "metadata": {},
     "output_type": "display_data"
    },
    {
     "data": {
      "text/html": [
       "<div>\n",
       "<style scoped>\n",
       "    .dataframe tbody tr th:only-of-type {\n",
       "        vertical-align: middle;\n",
       "    }\n",
       "\n",
       "    .dataframe tbody tr th {\n",
       "        vertical-align: top;\n",
       "    }\n",
       "\n",
       "    .dataframe thead th {\n",
       "        text-align: right;\n",
       "    }\n",
       "</style>\n",
       "<table border=\"1\" class=\"dataframe\">\n",
       "  <thead>\n",
       "    <tr style=\"text-align: right;\">\n",
       "      <th></th>\n",
       "      <th>Country</th>\n",
       "      <th>Iso_Code_3</th>\n",
       "      <th>Year</th>\n",
       "      <th>Strategy Existence</th>\n",
       "    </tr>\n",
       "  </thead>\n",
       "  <tbody>\n",
       "    <tr>\n",
       "      <th>0</th>\n",
       "      <td>Afghanistan</td>\n",
       "      <td>AFG</td>\n",
       "      <td>2019</td>\n",
       "      <td>Developing a Strategy</td>\n",
       "    </tr>\n",
       "  </tbody>\n",
       "</table>\n",
       "</div>"
      ],
      "text/plain": [
       "       Country Iso_Code_3  Year     Strategy Existence\n",
       "0  Afghanistan        AFG  2019  Developing a Strategy"
      ]
     },
     "metadata": {},
     "output_type": "display_data"
    }
   ],
   "source": [
    "display(unemployment.head(1),\n",
    "       strategy.head(1))"
   ]
  },
  {
   "cell_type": "code",
   "execution_count": 38,
   "id": "bd47726a",
   "metadata": {},
   "outputs": [
    {
     "data": {
      "text/html": [
       "<div>\n",
       "<style scoped>\n",
       "    .dataframe tbody tr th:only-of-type {\n",
       "        vertical-align: middle;\n",
       "    }\n",
       "\n",
       "    .dataframe tbody tr th {\n",
       "        vertical-align: top;\n",
       "    }\n",
       "\n",
       "    .dataframe thead th {\n",
       "        text-align: right;\n",
       "    }\n",
       "</style>\n",
       "<table border=\"1\" class=\"dataframe\">\n",
       "  <thead>\n",
       "    <tr style=\"text-align: right;\">\n",
       "      <th></th>\n",
       "      <th>Country</th>\n",
       "      <th>Iso_Code_3</th>\n",
       "      <th>Year</th>\n",
       "      <th>Females</th>\n",
       "      <th>Males</th>\n",
       "      <th>Population</th>\n",
       "      <th>Strategy Existence</th>\n",
       "    </tr>\n",
       "  </thead>\n",
       "  <tbody>\n",
       "    <tr>\n",
       "      <th>0</th>\n",
       "      <td>Afghanistan</td>\n",
       "      <td>AFG</td>\n",
       "      <td>1991</td>\n",
       "      <td>13.615</td>\n",
       "      <td>10.089</td>\n",
       "      <td>10745168.0</td>\n",
       "      <td>NaN</td>\n",
       "    </tr>\n",
       "    <tr>\n",
       "      <th>1</th>\n",
       "      <td>Afghanistan</td>\n",
       "      <td>AFG</td>\n",
       "      <td>1992</td>\n",
       "      <td>13.816</td>\n",
       "      <td>10.258</td>\n",
       "      <td>12057436.0</td>\n",
       "      <td>NaN</td>\n",
       "    </tr>\n",
       "    <tr>\n",
       "      <th>2</th>\n",
       "      <td>Afghanistan</td>\n",
       "      <td>AFG</td>\n",
       "      <td>1993</td>\n",
       "      <td>13.712</td>\n",
       "      <td>10.165</td>\n",
       "      <td>14003764.0</td>\n",
       "      <td>NaN</td>\n",
       "    </tr>\n",
       "    <tr>\n",
       "      <th>3</th>\n",
       "      <td>Afghanistan</td>\n",
       "      <td>AFG</td>\n",
       "      <td>1994</td>\n",
       "      <td>13.722</td>\n",
       "      <td>10.170</td>\n",
       "      <td>15455560.0</td>\n",
       "      <td>NaN</td>\n",
       "    </tr>\n",
       "    <tr>\n",
       "      <th>4</th>\n",
       "      <td>Afghanistan</td>\n",
       "      <td>AFG</td>\n",
       "      <td>1995</td>\n",
       "      <td>14.235</td>\n",
       "      <td>10.610</td>\n",
       "      <td>16418911.0</td>\n",
       "      <td>NaN</td>\n",
       "    </tr>\n",
       "  </tbody>\n",
       "</table>\n",
       "</div>"
      ],
      "text/plain": [
       "       Country Iso_Code_3  Year  Females   Males  Population  \\\n",
       "0  Afghanistan        AFG  1991   13.615  10.089  10745168.0   \n",
       "1  Afghanistan        AFG  1992   13.816  10.258  12057436.0   \n",
       "2  Afghanistan        AFG  1993   13.712  10.165  14003764.0   \n",
       "3  Afghanistan        AFG  1994   13.722  10.170  15455560.0   \n",
       "4  Afghanistan        AFG  1995   14.235  10.610  16418911.0   \n",
       "\n",
       "  Strategy Existence  \n",
       "0                NaN  \n",
       "1                NaN  \n",
       "2                NaN  \n",
       "3                NaN  \n",
       "4                NaN  "
      ]
     },
     "execution_count": 38,
     "metadata": {},
     "output_type": "execute_result"
    }
   ],
   "source": [
    "strategy.drop('Country',axis=1,inplace=True)\n",
    "final1=unemployment.merge(strategy,on=[\"Iso_Code_3\",\"Year\"],how='left')\n",
    "final1.head()"
   ]
  },
  {
   "cell_type": "code",
   "execution_count": 39,
   "id": "56e8f3ba",
   "metadata": {},
   "outputs": [
    {
     "data": {
      "text/html": [
       "<div>\n",
       "<style scoped>\n",
       "    .dataframe tbody tr th:only-of-type {\n",
       "        vertical-align: middle;\n",
       "    }\n",
       "\n",
       "    .dataframe tbody tr th {\n",
       "        vertical-align: top;\n",
       "    }\n",
       "\n",
       "    .dataframe thead th {\n",
       "        text-align: right;\n",
       "    }\n",
       "</style>\n",
       "<table border=\"1\" class=\"dataframe\">\n",
       "  <thead>\n",
       "    <tr style=\"text-align: right;\">\n",
       "      <th></th>\n",
       "      <th>Country</th>\n",
       "      <th>Iso_Code_3</th>\n",
       "      <th>Year</th>\n",
       "      <th>Females</th>\n",
       "      <th>Males</th>\n",
       "      <th>Population</th>\n",
       "      <th>Strategy Existence</th>\n",
       "    </tr>\n",
       "  </thead>\n",
       "  <tbody>\n",
       "    <tr>\n",
       "      <th>0</th>\n",
       "      <td>Afghanistan</td>\n",
       "      <td>AFG</td>\n",
       "      <td>1991</td>\n",
       "      <td>13.615</td>\n",
       "      <td>10.089</td>\n",
       "      <td>10745168.0</td>\n",
       "      <td>NaN</td>\n",
       "    </tr>\n",
       "  </tbody>\n",
       "</table>\n",
       "</div>"
      ],
      "text/plain": [
       "       Country Iso_Code_3  Year  Females   Males  Population  \\\n",
       "0  Afghanistan        AFG  1991   13.615  10.089  10745168.0   \n",
       "\n",
       "  Strategy Existence  \n",
       "0                NaN  "
      ]
     },
     "metadata": {},
     "output_type": "display_data"
    },
    {
     "data": {
      "text/html": [
       "<div>\n",
       "<style scoped>\n",
       "    .dataframe tbody tr th:only-of-type {\n",
       "        vertical-align: middle;\n",
       "    }\n",
       "\n",
       "    .dataframe tbody tr th {\n",
       "        vertical-align: top;\n",
       "    }\n",
       "\n",
       "    .dataframe thead th {\n",
       "        text-align: right;\n",
       "    }\n",
       "</style>\n",
       "<table border=\"1\" class=\"dataframe\">\n",
       "  <thead>\n",
       "    <tr style=\"text-align: right;\">\n",
       "      <th></th>\n",
       "      <th>Country</th>\n",
       "      <th>Iso_Code_3</th>\n",
       "      <th>Year</th>\n",
       "      <th>Edu Expenditure Perc</th>\n",
       "    </tr>\n",
       "  </thead>\n",
       "  <tbody>\n",
       "    <tr>\n",
       "      <th>0</th>\n",
       "      <td>Afghanistan</td>\n",
       "      <td>AFG</td>\n",
       "      <td>2005</td>\n",
       "      <td>15.08</td>\n",
       "    </tr>\n",
       "  </tbody>\n",
       "</table>\n",
       "</div>"
      ],
      "text/plain": [
       "       Country Iso_Code_3  Year  Edu Expenditure Perc\n",
       "0  Afghanistan        AFG  2005                 15.08"
      ]
     },
     "metadata": {},
     "output_type": "display_data"
    }
   ],
   "source": [
    "display(final1.head(1),\n",
    "       expenditure.head(1))"
   ]
  },
  {
   "cell_type": "code",
   "execution_count": 40,
   "id": "962b7009",
   "metadata": {},
   "outputs": [
    {
     "data": {
      "text/html": [
       "<div>\n",
       "<style scoped>\n",
       "    .dataframe tbody tr th:only-of-type {\n",
       "        vertical-align: middle;\n",
       "    }\n",
       "\n",
       "    .dataframe tbody tr th {\n",
       "        vertical-align: top;\n",
       "    }\n",
       "\n",
       "    .dataframe thead th {\n",
       "        text-align: right;\n",
       "    }\n",
       "</style>\n",
       "<table border=\"1\" class=\"dataframe\">\n",
       "  <thead>\n",
       "    <tr style=\"text-align: right;\">\n",
       "      <th></th>\n",
       "      <th>Country</th>\n",
       "      <th>Iso_Code_3</th>\n",
       "      <th>Year</th>\n",
       "      <th>Females</th>\n",
       "      <th>Males</th>\n",
       "      <th>Population</th>\n",
       "      <th>Strategy Existence</th>\n",
       "      <th>Edu Expenditure Perc</th>\n",
       "    </tr>\n",
       "  </thead>\n",
       "  <tbody>\n",
       "    <tr>\n",
       "      <th>0</th>\n",
       "      <td>Afghanistan</td>\n",
       "      <td>AFG</td>\n",
       "      <td>1991</td>\n",
       "      <td>13.615</td>\n",
       "      <td>10.089</td>\n",
       "      <td>10745168.0</td>\n",
       "      <td>NaN</td>\n",
       "      <td>NaN</td>\n",
       "    </tr>\n",
       "    <tr>\n",
       "      <th>1</th>\n",
       "      <td>Afghanistan</td>\n",
       "      <td>AFG</td>\n",
       "      <td>1992</td>\n",
       "      <td>13.816</td>\n",
       "      <td>10.258</td>\n",
       "      <td>12057436.0</td>\n",
       "      <td>NaN</td>\n",
       "      <td>NaN</td>\n",
       "    </tr>\n",
       "    <tr>\n",
       "      <th>2</th>\n",
       "      <td>Afghanistan</td>\n",
       "      <td>AFG</td>\n",
       "      <td>1993</td>\n",
       "      <td>13.712</td>\n",
       "      <td>10.165</td>\n",
       "      <td>14003764.0</td>\n",
       "      <td>NaN</td>\n",
       "      <td>NaN</td>\n",
       "    </tr>\n",
       "    <tr>\n",
       "      <th>3</th>\n",
       "      <td>Afghanistan</td>\n",
       "      <td>AFG</td>\n",
       "      <td>1994</td>\n",
       "      <td>13.722</td>\n",
       "      <td>10.170</td>\n",
       "      <td>15455560.0</td>\n",
       "      <td>NaN</td>\n",
       "      <td>NaN</td>\n",
       "    </tr>\n",
       "    <tr>\n",
       "      <th>4</th>\n",
       "      <td>Afghanistan</td>\n",
       "      <td>AFG</td>\n",
       "      <td>1995</td>\n",
       "      <td>14.235</td>\n",
       "      <td>10.610</td>\n",
       "      <td>16418911.0</td>\n",
       "      <td>NaN</td>\n",
       "      <td>NaN</td>\n",
       "    </tr>\n",
       "  </tbody>\n",
       "</table>\n",
       "</div>"
      ],
      "text/plain": [
       "       Country Iso_Code_3  Year  Females   Males  Population  \\\n",
       "0  Afghanistan        AFG  1991   13.615  10.089  10745168.0   \n",
       "1  Afghanistan        AFG  1992   13.816  10.258  12057436.0   \n",
       "2  Afghanistan        AFG  1993   13.712  10.165  14003764.0   \n",
       "3  Afghanistan        AFG  1994   13.722  10.170  15455560.0   \n",
       "4  Afghanistan        AFG  1995   14.235  10.610  16418911.0   \n",
       "\n",
       "  Strategy Existence  Edu Expenditure Perc  \n",
       "0                NaN                   NaN  \n",
       "1                NaN                   NaN  \n",
       "2                NaN                   NaN  \n",
       "3                NaN                   NaN  \n",
       "4                NaN                   NaN  "
      ]
     },
     "execution_count": 40,
     "metadata": {},
     "output_type": "execute_result"
    }
   ],
   "source": [
    "expenditure.drop('Country',axis=1,inplace=True)\n",
    "final2=final1.merge(expenditure,on=[\"Iso_Code_3\",\"Year\"],how='left')\n",
    "final2.head()"
   ]
  },
  {
   "cell_type": "code",
   "execution_count": 41,
   "id": "71b14826",
   "metadata": {},
   "outputs": [
    {
     "data": {
      "text/html": [
       "<div>\n",
       "<style scoped>\n",
       "    .dataframe tbody tr th:only-of-type {\n",
       "        vertical-align: middle;\n",
       "    }\n",
       "\n",
       "    .dataframe tbody tr th {\n",
       "        vertical-align: top;\n",
       "    }\n",
       "\n",
       "    .dataframe thead th {\n",
       "        text-align: right;\n",
       "    }\n",
       "</style>\n",
       "<table border=\"1\" class=\"dataframe\">\n",
       "  <thead>\n",
       "    <tr style=\"text-align: right;\">\n",
       "      <th></th>\n",
       "      <th>Country</th>\n",
       "      <th>Iso_Code_3</th>\n",
       "      <th>Year</th>\n",
       "      <th>Females</th>\n",
       "      <th>Males</th>\n",
       "      <th>Population</th>\n",
       "      <th>Strategy Existence</th>\n",
       "      <th>Edu Expenditure Perc</th>\n",
       "    </tr>\n",
       "  </thead>\n",
       "  <tbody>\n",
       "    <tr>\n",
       "      <th>0</th>\n",
       "      <td>Afghanistan</td>\n",
       "      <td>AFG</td>\n",
       "      <td>1991</td>\n",
       "      <td>13.615</td>\n",
       "      <td>10.089</td>\n",
       "      <td>10745168.0</td>\n",
       "      <td>NaN</td>\n",
       "      <td>NaN</td>\n",
       "    </tr>\n",
       "  </tbody>\n",
       "</table>\n",
       "</div>"
      ],
      "text/plain": [
       "       Country Iso_Code_3  Year  Females   Males  Population  \\\n",
       "0  Afghanistan        AFG  1991   13.615  10.089  10745168.0   \n",
       "\n",
       "  Strategy Existence  Edu Expenditure Perc  \n",
       "0                NaN                   NaN  "
      ]
     },
     "metadata": {},
     "output_type": "display_data"
    },
    {
     "data": {
      "text/html": [
       "<div>\n",
       "<style scoped>\n",
       "    .dataframe tbody tr th:only-of-type {\n",
       "        vertical-align: middle;\n",
       "    }\n",
       "\n",
       "    .dataframe tbody tr th {\n",
       "        vertical-align: top;\n",
       "    }\n",
       "\n",
       "    .dataframe thead th {\n",
       "        text-align: right;\n",
       "    }\n",
       "</style>\n",
       "<table border=\"1\" class=\"dataframe\">\n",
       "  <thead>\n",
       "    <tr style=\"text-align: right;\">\n",
       "      <th></th>\n",
       "      <th>Country</th>\n",
       "      <th>Iso_Code_3</th>\n",
       "      <th>Year</th>\n",
       "      <th>Electricity Access Perc</th>\n",
       "    </tr>\n",
       "  </thead>\n",
       "  <tbody>\n",
       "    <tr>\n",
       "      <th>0</th>\n",
       "      <td>Afghanistan</td>\n",
       "      <td>AFG</td>\n",
       "      <td>2000</td>\n",
       "      <td>1.613591</td>\n",
       "    </tr>\n",
       "  </tbody>\n",
       "</table>\n",
       "</div>"
      ],
      "text/plain": [
       "       Country Iso_Code_3  Year  Electricity Access Perc\n",
       "0  Afghanistan        AFG  2000                 1.613591"
      ]
     },
     "metadata": {},
     "output_type": "display_data"
    }
   ],
   "source": [
    "display(final2.head(1),\n",
    "       electricity.head(1))"
   ]
  },
  {
   "cell_type": "code",
   "execution_count": 42,
   "id": "7faadb96",
   "metadata": {},
   "outputs": [
    {
     "data": {
      "text/html": [
       "<div>\n",
       "<style scoped>\n",
       "    .dataframe tbody tr th:only-of-type {\n",
       "        vertical-align: middle;\n",
       "    }\n",
       "\n",
       "    .dataframe tbody tr th {\n",
       "        vertical-align: top;\n",
       "    }\n",
       "\n",
       "    .dataframe thead th {\n",
       "        text-align: right;\n",
       "    }\n",
       "</style>\n",
       "<table border=\"1\" class=\"dataframe\">\n",
       "  <thead>\n",
       "    <tr style=\"text-align: right;\">\n",
       "      <th></th>\n",
       "      <th>Country</th>\n",
       "      <th>Iso_Code_3</th>\n",
       "      <th>Year</th>\n",
       "      <th>Females</th>\n",
       "      <th>Males</th>\n",
       "      <th>Population</th>\n",
       "      <th>Strategy Existence</th>\n",
       "      <th>Edu Expenditure Perc</th>\n",
       "      <th>Electricity Access Perc</th>\n",
       "    </tr>\n",
       "  </thead>\n",
       "  <tbody>\n",
       "    <tr>\n",
       "      <th>0</th>\n",
       "      <td>Afghanistan</td>\n",
       "      <td>AFG</td>\n",
       "      <td>1991</td>\n",
       "      <td>13.615</td>\n",
       "      <td>10.089</td>\n",
       "      <td>10745168.0</td>\n",
       "      <td>NaN</td>\n",
       "      <td>NaN</td>\n",
       "      <td>NaN</td>\n",
       "    </tr>\n",
       "    <tr>\n",
       "      <th>1</th>\n",
       "      <td>Afghanistan</td>\n",
       "      <td>AFG</td>\n",
       "      <td>1992</td>\n",
       "      <td>13.816</td>\n",
       "      <td>10.258</td>\n",
       "      <td>12057436.0</td>\n",
       "      <td>NaN</td>\n",
       "      <td>NaN</td>\n",
       "      <td>NaN</td>\n",
       "    </tr>\n",
       "    <tr>\n",
       "      <th>2</th>\n",
       "      <td>Afghanistan</td>\n",
       "      <td>AFG</td>\n",
       "      <td>1993</td>\n",
       "      <td>13.712</td>\n",
       "      <td>10.165</td>\n",
       "      <td>14003764.0</td>\n",
       "      <td>NaN</td>\n",
       "      <td>NaN</td>\n",
       "      <td>NaN</td>\n",
       "    </tr>\n",
       "    <tr>\n",
       "      <th>3</th>\n",
       "      <td>Afghanistan</td>\n",
       "      <td>AFG</td>\n",
       "      <td>1994</td>\n",
       "      <td>13.722</td>\n",
       "      <td>10.170</td>\n",
       "      <td>15455560.0</td>\n",
       "      <td>NaN</td>\n",
       "      <td>NaN</td>\n",
       "      <td>NaN</td>\n",
       "    </tr>\n",
       "    <tr>\n",
       "      <th>4</th>\n",
       "      <td>Afghanistan</td>\n",
       "      <td>AFG</td>\n",
       "      <td>1995</td>\n",
       "      <td>14.235</td>\n",
       "      <td>10.610</td>\n",
       "      <td>16418911.0</td>\n",
       "      <td>NaN</td>\n",
       "      <td>NaN</td>\n",
       "      <td>NaN</td>\n",
       "    </tr>\n",
       "  </tbody>\n",
       "</table>\n",
       "</div>"
      ],
      "text/plain": [
       "       Country Iso_Code_3  Year  Females   Males  Population  \\\n",
       "0  Afghanistan        AFG  1991   13.615  10.089  10745168.0   \n",
       "1  Afghanistan        AFG  1992   13.816  10.258  12057436.0   \n",
       "2  Afghanistan        AFG  1993   13.712  10.165  14003764.0   \n",
       "3  Afghanistan        AFG  1994   13.722  10.170  15455560.0   \n",
       "4  Afghanistan        AFG  1995   14.235  10.610  16418911.0   \n",
       "\n",
       "  Strategy Existence  Edu Expenditure Perc  Electricity Access Perc  \n",
       "0                NaN                   NaN                      NaN  \n",
       "1                NaN                   NaN                      NaN  \n",
       "2                NaN                   NaN                      NaN  \n",
       "3                NaN                   NaN                      NaN  \n",
       "4                NaN                   NaN                      NaN  "
      ]
     },
     "execution_count": 42,
     "metadata": {},
     "output_type": "execute_result"
    }
   ],
   "source": [
    "electricity.drop('Country',axis=1,inplace=True)\n",
    "final3=final2.merge(electricity,on=[\"Iso_Code_3\",\"Year\"],how='left')\n",
    "final3.head()"
   ]
  },
  {
   "cell_type": "code",
   "execution_count": 43,
   "id": "c76ae605",
   "metadata": {},
   "outputs": [
    {
     "data": {
      "text/html": [
       "<div>\n",
       "<style scoped>\n",
       "    .dataframe tbody tr th:only-of-type {\n",
       "        vertical-align: middle;\n",
       "    }\n",
       "\n",
       "    .dataframe tbody tr th {\n",
       "        vertical-align: top;\n",
       "    }\n",
       "\n",
       "    .dataframe thead th {\n",
       "        text-align: right;\n",
       "    }\n",
       "</style>\n",
       "<table border=\"1\" class=\"dataframe\">\n",
       "  <thead>\n",
       "    <tr style=\"text-align: right;\">\n",
       "      <th></th>\n",
       "      <th>Country</th>\n",
       "      <th>Iso_Code_3</th>\n",
       "      <th>Year</th>\n",
       "      <th>Females</th>\n",
       "      <th>Males</th>\n",
       "      <th>Population</th>\n",
       "      <th>Strategy Existence</th>\n",
       "      <th>Edu Expenditure Perc</th>\n",
       "      <th>Electricity Access Perc</th>\n",
       "    </tr>\n",
       "  </thead>\n",
       "  <tbody>\n",
       "    <tr>\n",
       "      <th>0</th>\n",
       "      <td>Afghanistan</td>\n",
       "      <td>AFG</td>\n",
       "      <td>1991</td>\n",
       "      <td>13.615</td>\n",
       "      <td>10.089</td>\n",
       "      <td>10745168.0</td>\n",
       "      <td>NaN</td>\n",
       "      <td>NaN</td>\n",
       "      <td>NaN</td>\n",
       "    </tr>\n",
       "  </tbody>\n",
       "</table>\n",
       "</div>"
      ],
      "text/plain": [
       "       Country Iso_Code_3  Year  Females   Males  Population  \\\n",
       "0  Afghanistan        AFG  1991   13.615  10.089  10745168.0   \n",
       "\n",
       "  Strategy Existence  Edu Expenditure Perc  Electricity Access Perc  \n",
       "0                NaN                   NaN                      NaN  "
      ]
     },
     "metadata": {},
     "output_type": "display_data"
    },
    {
     "data": {
      "text/html": [
       "<div>\n",
       "<style scoped>\n",
       "    .dataframe tbody tr th:only-of-type {\n",
       "        vertical-align: middle;\n",
       "    }\n",
       "\n",
       "    .dataframe tbody tr th {\n",
       "        vertical-align: top;\n",
       "    }\n",
       "\n",
       "    .dataframe thead th {\n",
       "        text-align: right;\n",
       "    }\n",
       "</style>\n",
       "<table border=\"1\" class=\"dataframe\">\n",
       "  <thead>\n",
       "    <tr style=\"text-align: right;\">\n",
       "      <th></th>\n",
       "      <th>Country</th>\n",
       "      <th>Adult Population</th>\n",
       "      <th>Year</th>\n",
       "      <th>LLC Count</th>\n",
       "      <th>LLC Density</th>\n",
       "      <th>Eurostat Center</th>\n",
       "    </tr>\n",
       "  </thead>\n",
       "  <tbody>\n",
       "    <tr>\n",
       "      <th>0</th>\n",
       "      <td>Afghanistan</td>\n",
       "      <td>14039528.0</td>\n",
       "      <td>2009</td>\n",
       "      <td>4289.0</td>\n",
       "      <td>0.305495</td>\n",
       "      <td>No</td>\n",
       "    </tr>\n",
       "  </tbody>\n",
       "</table>\n",
       "</div>"
      ],
      "text/plain": [
       "       Country  Adult Population  Year  LLC Count  LLC Density Eurostat Center\n",
       "0  Afghanistan        14039528.0  2009     4289.0     0.305495              No"
      ]
     },
     "metadata": {},
     "output_type": "display_data"
    }
   ],
   "source": [
    "display(final3.head(1),\n",
    "       firms.head(1))"
   ]
  },
  {
   "cell_type": "code",
   "execution_count": 44,
   "id": "03e60d96",
   "metadata": {},
   "outputs": [
    {
     "data": {
      "text/html": [
       "<div>\n",
       "<style scoped>\n",
       "    .dataframe tbody tr th:only-of-type {\n",
       "        vertical-align: middle;\n",
       "    }\n",
       "\n",
       "    .dataframe tbody tr th {\n",
       "        vertical-align: top;\n",
       "    }\n",
       "\n",
       "    .dataframe thead th {\n",
       "        text-align: right;\n",
       "    }\n",
       "</style>\n",
       "<table border=\"1\" class=\"dataframe\">\n",
       "  <thead>\n",
       "    <tr style=\"text-align: right;\">\n",
       "      <th></th>\n",
       "      <th>Country</th>\n",
       "      <th>Iso_Code_3</th>\n",
       "      <th>Year</th>\n",
       "      <th>Females</th>\n",
       "      <th>Males</th>\n",
       "      <th>Population</th>\n",
       "      <th>Strategy Existence</th>\n",
       "      <th>Edu Expenditure Perc</th>\n",
       "      <th>Electricity Access Perc</th>\n",
       "      <th>Adult Population</th>\n",
       "      <th>LLC Count</th>\n",
       "      <th>LLC Density</th>\n",
       "      <th>Eurostat Center</th>\n",
       "    </tr>\n",
       "  </thead>\n",
       "  <tbody>\n",
       "    <tr>\n",
       "      <th>0</th>\n",
       "      <td>Afghanistan</td>\n",
       "      <td>AFG</td>\n",
       "      <td>1991</td>\n",
       "      <td>13.615</td>\n",
       "      <td>10.089</td>\n",
       "      <td>10745168.0</td>\n",
       "      <td>NaN</td>\n",
       "      <td>NaN</td>\n",
       "      <td>NaN</td>\n",
       "      <td>NaN</td>\n",
       "      <td>NaN</td>\n",
       "      <td>NaN</td>\n",
       "      <td>NaN</td>\n",
       "    </tr>\n",
       "    <tr>\n",
       "      <th>1</th>\n",
       "      <td>Afghanistan</td>\n",
       "      <td>AFG</td>\n",
       "      <td>1992</td>\n",
       "      <td>13.816</td>\n",
       "      <td>10.258</td>\n",
       "      <td>12057436.0</td>\n",
       "      <td>NaN</td>\n",
       "      <td>NaN</td>\n",
       "      <td>NaN</td>\n",
       "      <td>NaN</td>\n",
       "      <td>NaN</td>\n",
       "      <td>NaN</td>\n",
       "      <td>NaN</td>\n",
       "    </tr>\n",
       "    <tr>\n",
       "      <th>2</th>\n",
       "      <td>Afghanistan</td>\n",
       "      <td>AFG</td>\n",
       "      <td>1993</td>\n",
       "      <td>13.712</td>\n",
       "      <td>10.165</td>\n",
       "      <td>14003764.0</td>\n",
       "      <td>NaN</td>\n",
       "      <td>NaN</td>\n",
       "      <td>NaN</td>\n",
       "      <td>NaN</td>\n",
       "      <td>NaN</td>\n",
       "      <td>NaN</td>\n",
       "      <td>NaN</td>\n",
       "    </tr>\n",
       "    <tr>\n",
       "      <th>3</th>\n",
       "      <td>Afghanistan</td>\n",
       "      <td>AFG</td>\n",
       "      <td>1994</td>\n",
       "      <td>13.722</td>\n",
       "      <td>10.170</td>\n",
       "      <td>15455560.0</td>\n",
       "      <td>NaN</td>\n",
       "      <td>NaN</td>\n",
       "      <td>NaN</td>\n",
       "      <td>NaN</td>\n",
       "      <td>NaN</td>\n",
       "      <td>NaN</td>\n",
       "      <td>NaN</td>\n",
       "    </tr>\n",
       "    <tr>\n",
       "      <th>4</th>\n",
       "      <td>Afghanistan</td>\n",
       "      <td>AFG</td>\n",
       "      <td>1995</td>\n",
       "      <td>14.235</td>\n",
       "      <td>10.610</td>\n",
       "      <td>16418911.0</td>\n",
       "      <td>NaN</td>\n",
       "      <td>NaN</td>\n",
       "      <td>NaN</td>\n",
       "      <td>NaN</td>\n",
       "      <td>NaN</td>\n",
       "      <td>NaN</td>\n",
       "      <td>NaN</td>\n",
       "    </tr>\n",
       "  </tbody>\n",
       "</table>\n",
       "</div>"
      ],
      "text/plain": [
       "       Country Iso_Code_3  Year  Females   Males  Population  \\\n",
       "0  Afghanistan        AFG  1991   13.615  10.089  10745168.0   \n",
       "1  Afghanistan        AFG  1992   13.816  10.258  12057436.0   \n",
       "2  Afghanistan        AFG  1993   13.712  10.165  14003764.0   \n",
       "3  Afghanistan        AFG  1994   13.722  10.170  15455560.0   \n",
       "4  Afghanistan        AFG  1995   14.235  10.610  16418911.0   \n",
       "\n",
       "  Strategy Existence  Edu Expenditure Perc  Electricity Access Perc  \\\n",
       "0                NaN                   NaN                      NaN   \n",
       "1                NaN                   NaN                      NaN   \n",
       "2                NaN                   NaN                      NaN   \n",
       "3                NaN                   NaN                      NaN   \n",
       "4                NaN                   NaN                      NaN   \n",
       "\n",
       "   Adult Population  LLC Count  LLC Density Eurostat Center  \n",
       "0               NaN        NaN          NaN             NaN  \n",
       "1               NaN        NaN          NaN             NaN  \n",
       "2               NaN        NaN          NaN             NaN  \n",
       "3               NaN        NaN          NaN             NaN  \n",
       "4               NaN        NaN          NaN             NaN  "
      ]
     },
     "execution_count": 44,
     "metadata": {},
     "output_type": "execute_result"
    }
   ],
   "source": [
    "#firms.drop('Country',axis=1,inplace=True)\n",
    "final4=final3.merge(firms,on=[\"Country\",\"Year\"],how='left')\n",
    "final4.head()"
   ]
  },
  {
   "cell_type": "code",
   "execution_count": 45,
   "id": "351112f1",
   "metadata": {},
   "outputs": [
    {
     "data": {
      "text/html": [
       "<div>\n",
       "<style scoped>\n",
       "    .dataframe tbody tr th:only-of-type {\n",
       "        vertical-align: middle;\n",
       "    }\n",
       "\n",
       "    .dataframe tbody tr th {\n",
       "        vertical-align: top;\n",
       "    }\n",
       "\n",
       "    .dataframe thead th {\n",
       "        text-align: right;\n",
       "    }\n",
       "</style>\n",
       "<table border=\"1\" class=\"dataframe\">\n",
       "  <thead>\n",
       "    <tr style=\"text-align: right;\">\n",
       "      <th></th>\n",
       "      <th>Country</th>\n",
       "      <th>Iso_Code_3</th>\n",
       "      <th>Year</th>\n",
       "      <th>Females</th>\n",
       "      <th>Males</th>\n",
       "      <th>Population</th>\n",
       "      <th>Strategy Existence</th>\n",
       "      <th>Edu Expenditure Perc</th>\n",
       "      <th>Electricity Access Perc</th>\n",
       "      <th>Adult Population</th>\n",
       "      <th>LLC Count</th>\n",
       "      <th>LLC Density</th>\n",
       "      <th>Eurostat Center</th>\n",
       "    </tr>\n",
       "  </thead>\n",
       "  <tbody>\n",
       "    <tr>\n",
       "      <th>0</th>\n",
       "      <td>Afghanistan</td>\n",
       "      <td>AFG</td>\n",
       "      <td>1991</td>\n",
       "      <td>13.615</td>\n",
       "      <td>10.089</td>\n",
       "      <td>10745168.0</td>\n",
       "      <td>NaN</td>\n",
       "      <td>NaN</td>\n",
       "      <td>NaN</td>\n",
       "      <td>NaN</td>\n",
       "      <td>NaN</td>\n",
       "      <td>NaN</td>\n",
       "      <td>NaN</td>\n",
       "    </tr>\n",
       "  </tbody>\n",
       "</table>\n",
       "</div>"
      ],
      "text/plain": [
       "       Country Iso_Code_3  Year  Females   Males  Population  \\\n",
       "0  Afghanistan        AFG  1991   13.615  10.089  10745168.0   \n",
       "\n",
       "  Strategy Existence  Edu Expenditure Perc  Electricity Access Perc  \\\n",
       "0                NaN                   NaN                      NaN   \n",
       "\n",
       "   Adult Population  LLC Count  LLC Density Eurostat Center  \n",
       "0               NaN        NaN          NaN             NaN  "
      ]
     },
     "metadata": {},
     "output_type": "display_data"
    },
    {
     "data": {
      "text/html": [
       "<div>\n",
       "<style scoped>\n",
       "    .dataframe tbody tr th:only-of-type {\n",
       "        vertical-align: middle;\n",
       "    }\n",
       "\n",
       "    .dataframe tbody tr th {\n",
       "        vertical-align: top;\n",
       "    }\n",
       "\n",
       "    .dataframe thead th {\n",
       "        text-align: right;\n",
       "    }\n",
       "</style>\n",
       "<table border=\"1\" class=\"dataframe\">\n",
       "  <thead>\n",
       "    <tr style=\"text-align: right;\">\n",
       "      <th></th>\n",
       "      <th>Country</th>\n",
       "      <th>Iso_Code_2</th>\n",
       "      <th>Iso_Code_3</th>\n",
       "      <th>Country Code</th>\n",
       "      <th>Region</th>\n",
       "      <th>Sub Region</th>\n",
       "    </tr>\n",
       "  </thead>\n",
       "  <tbody>\n",
       "    <tr>\n",
       "      <th>0</th>\n",
       "      <td>Afghanistan</td>\n",
       "      <td>AF</td>\n",
       "      <td>AFG</td>\n",
       "      <td>4</td>\n",
       "      <td>Asia</td>\n",
       "      <td>Southern Asia</td>\n",
       "    </tr>\n",
       "  </tbody>\n",
       "</table>\n",
       "</div>"
      ],
      "text/plain": [
       "       Country Iso_Code_2 Iso_Code_3  Country Code Region     Sub Region\n",
       "0  Afghanistan         AF        AFG             4   Asia  Southern Asia"
      ]
     },
     "metadata": {},
     "output_type": "display_data"
    }
   ],
   "source": [
    "display(final4.head(1),\n",
    "       countries.head(1))"
   ]
  },
  {
   "cell_type": "code",
   "execution_count": 46,
   "id": "57af164e",
   "metadata": {},
   "outputs": [
    {
     "name": "stdout",
     "output_type": "stream",
     "text": [
      "(5828, 17)\n"
     ]
    },
    {
     "data": {
      "text/html": [
       "<div>\n",
       "<style scoped>\n",
       "    .dataframe tbody tr th:only-of-type {\n",
       "        vertical-align: middle;\n",
       "    }\n",
       "\n",
       "    .dataframe tbody tr th {\n",
       "        vertical-align: top;\n",
       "    }\n",
       "\n",
       "    .dataframe thead th {\n",
       "        text-align: right;\n",
       "    }\n",
       "</style>\n",
       "<table border=\"1\" class=\"dataframe\">\n",
       "  <thead>\n",
       "    <tr style=\"text-align: right;\">\n",
       "      <th></th>\n",
       "      <th>Iso_Code_3</th>\n",
       "      <th>Year</th>\n",
       "      <th>Females</th>\n",
       "      <th>Males</th>\n",
       "      <th>Population</th>\n",
       "      <th>Strategy Existence</th>\n",
       "      <th>Edu Expenditure Perc</th>\n",
       "      <th>Electricity Access Perc</th>\n",
       "      <th>Adult Population</th>\n",
       "      <th>LLC Count</th>\n",
       "      <th>LLC Density</th>\n",
       "      <th>Eurostat Center</th>\n",
       "      <th>Country</th>\n",
       "      <th>Iso_Code_2</th>\n",
       "      <th>Country Code</th>\n",
       "      <th>Region</th>\n",
       "      <th>Sub Region</th>\n",
       "    </tr>\n",
       "  </thead>\n",
       "  <tbody>\n",
       "    <tr>\n",
       "      <th>0</th>\n",
       "      <td>AFG</td>\n",
       "      <td>1991</td>\n",
       "      <td>13.615</td>\n",
       "      <td>10.089</td>\n",
       "      <td>10745168.0</td>\n",
       "      <td>NaN</td>\n",
       "      <td>NaN</td>\n",
       "      <td>NaN</td>\n",
       "      <td>NaN</td>\n",
       "      <td>NaN</td>\n",
       "      <td>NaN</td>\n",
       "      <td>NaN</td>\n",
       "      <td>Afghanistan</td>\n",
       "      <td>AF</td>\n",
       "      <td>4.0</td>\n",
       "      <td>Asia</td>\n",
       "      <td>Southern Asia</td>\n",
       "    </tr>\n",
       "    <tr>\n",
       "      <th>1</th>\n",
       "      <td>AFG</td>\n",
       "      <td>1992</td>\n",
       "      <td>13.816</td>\n",
       "      <td>10.258</td>\n",
       "      <td>12057436.0</td>\n",
       "      <td>NaN</td>\n",
       "      <td>NaN</td>\n",
       "      <td>NaN</td>\n",
       "      <td>NaN</td>\n",
       "      <td>NaN</td>\n",
       "      <td>NaN</td>\n",
       "      <td>NaN</td>\n",
       "      <td>Afghanistan</td>\n",
       "      <td>AF</td>\n",
       "      <td>4.0</td>\n",
       "      <td>Asia</td>\n",
       "      <td>Southern Asia</td>\n",
       "    </tr>\n",
       "    <tr>\n",
       "      <th>2</th>\n",
       "      <td>AFG</td>\n",
       "      <td>1993</td>\n",
       "      <td>13.712</td>\n",
       "      <td>10.165</td>\n",
       "      <td>14003764.0</td>\n",
       "      <td>NaN</td>\n",
       "      <td>NaN</td>\n",
       "      <td>NaN</td>\n",
       "      <td>NaN</td>\n",
       "      <td>NaN</td>\n",
       "      <td>NaN</td>\n",
       "      <td>NaN</td>\n",
       "      <td>Afghanistan</td>\n",
       "      <td>AF</td>\n",
       "      <td>4.0</td>\n",
       "      <td>Asia</td>\n",
       "      <td>Southern Asia</td>\n",
       "    </tr>\n",
       "    <tr>\n",
       "      <th>3</th>\n",
       "      <td>AFG</td>\n",
       "      <td>1994</td>\n",
       "      <td>13.722</td>\n",
       "      <td>10.170</td>\n",
       "      <td>15455560.0</td>\n",
       "      <td>NaN</td>\n",
       "      <td>NaN</td>\n",
       "      <td>NaN</td>\n",
       "      <td>NaN</td>\n",
       "      <td>NaN</td>\n",
       "      <td>NaN</td>\n",
       "      <td>NaN</td>\n",
       "      <td>Afghanistan</td>\n",
       "      <td>AF</td>\n",
       "      <td>4.0</td>\n",
       "      <td>Asia</td>\n",
       "      <td>Southern Asia</td>\n",
       "    </tr>\n",
       "    <tr>\n",
       "      <th>4</th>\n",
       "      <td>AFG</td>\n",
       "      <td>1995</td>\n",
       "      <td>14.235</td>\n",
       "      <td>10.610</td>\n",
       "      <td>16418911.0</td>\n",
       "      <td>NaN</td>\n",
       "      <td>NaN</td>\n",
       "      <td>NaN</td>\n",
       "      <td>NaN</td>\n",
       "      <td>NaN</td>\n",
       "      <td>NaN</td>\n",
       "      <td>NaN</td>\n",
       "      <td>Afghanistan</td>\n",
       "      <td>AF</td>\n",
       "      <td>4.0</td>\n",
       "      <td>Asia</td>\n",
       "      <td>Southern Asia</td>\n",
       "    </tr>\n",
       "  </tbody>\n",
       "</table>\n",
       "</div>"
      ],
      "text/plain": [
       "  Iso_Code_3  Year  Females   Males  Population Strategy Existence  \\\n",
       "0        AFG  1991   13.615  10.089  10745168.0                NaN   \n",
       "1        AFG  1992   13.816  10.258  12057436.0                NaN   \n",
       "2        AFG  1993   13.712  10.165  14003764.0                NaN   \n",
       "3        AFG  1994   13.722  10.170  15455560.0                NaN   \n",
       "4        AFG  1995   14.235  10.610  16418911.0                NaN   \n",
       "\n",
       "   Edu Expenditure Perc  Electricity Access Perc  Adult Population  LLC Count  \\\n",
       "0                   NaN                      NaN               NaN        NaN   \n",
       "1                   NaN                      NaN               NaN        NaN   \n",
       "2                   NaN                      NaN               NaN        NaN   \n",
       "3                   NaN                      NaN               NaN        NaN   \n",
       "4                   NaN                      NaN               NaN        NaN   \n",
       "\n",
       "   LLC Density Eurostat Center      Country Iso_Code_2  Country Code Region  \\\n",
       "0          NaN             NaN  Afghanistan         AF           4.0   Asia   \n",
       "1          NaN             NaN  Afghanistan         AF           4.0   Asia   \n",
       "2          NaN             NaN  Afghanistan         AF           4.0   Asia   \n",
       "3          NaN             NaN  Afghanistan         AF           4.0   Asia   \n",
       "4          NaN             NaN  Afghanistan         AF           4.0   Asia   \n",
       "\n",
       "      Sub Region  \n",
       "0  Southern Asia  \n",
       "1  Southern Asia  \n",
       "2  Southern Asia  \n",
       "3  Southern Asia  \n",
       "4  Southern Asia  "
      ]
     },
     "execution_count": 46,
     "metadata": {},
     "output_type": "execute_result"
    }
   ],
   "source": [
    "final4.drop('Country',axis=1,inplace=True)\n",
    "final=final4.merge(countries,on=[\"Iso_Code_3\"],how='left')\n",
    "print(final.shape)\n",
    "final.head()"
   ]
  },
  {
   "cell_type": "code",
   "execution_count": 47,
   "id": "263b1dec",
   "metadata": {},
   "outputs": [
    {
     "data": {
      "text/plain": [
       "Iso_Code_3                    0\n",
       "Year                          0\n",
       "Females                       0\n",
       "Males                         0\n",
       "Population                   31\n",
       "Strategy Existence         5550\n",
       "Edu Expenditure Perc       2478\n",
       "Electricity Access Perc     837\n",
       "Adult Population           4453\n",
       "LLC Count                  4453\n",
       "LLC Density                4453\n",
       "Eurostat Center            4453\n",
       "Country                      62\n",
       "Iso_Code_2                   62\n",
       "Country Code                 62\n",
       "Region                       62\n",
       "Sub Region                   62\n",
       "dtype: int64"
      ]
     },
     "execution_count": 47,
     "metadata": {},
     "output_type": "execute_result"
    }
   ],
   "source": [
    "final.isna().sum()"
   ]
  },
  {
   "cell_type": "code",
   "execution_count": 48,
   "id": "636cea49",
   "metadata": {},
   "outputs": [],
   "source": [
    "# drop world metrics to be left with only Country\n",
    "final.dropna(subset=['Country'],inplace=True)"
   ]
  },
  {
   "cell_type": "code",
   "execution_count": 49,
   "id": "cb1328e5",
   "metadata": {},
   "outputs": [
    {
     "data": {
      "text/plain": [
       "Iso_Code_3                    0\n",
       "Year                          0\n",
       "Females                       0\n",
       "Males                         0\n",
       "Population                    0\n",
       "Strategy Existence         5488\n",
       "Edu Expenditure Perc       2437\n",
       "Electricity Access Perc     828\n",
       "Adult Population           4391\n",
       "LLC Count                  4391\n",
       "LLC Density                4391\n",
       "Eurostat Center            4391\n",
       "Country                       0\n",
       "Iso_Code_2                    0\n",
       "Country Code                  0\n",
       "Region                        0\n",
       "Sub Region                    0\n",
       "dtype: int64"
      ]
     },
     "execution_count": 49,
     "metadata": {},
     "output_type": "execute_result"
    }
   ],
   "source": [
    "#Assuming blanks in Strategy_Exst to mean no strategy we impute\n",
    "#final['Strategy_Exst']=final['Strategy_Exst'].fillna(0)\n",
    "final.isna().sum()"
   ]
  },
  {
   "cell_type": "code",
   "execution_count": 50,
   "id": "6a260261",
   "metadata": {},
   "outputs": [],
   "source": [
    "final.sort_values(by=['Country','Year'],inplace=True)\n",
    "final.to_csv('final.csv',index=False)"
   ]
  },
  {
   "cell_type": "code",
   "execution_count": 51,
   "id": "2073d36f",
   "metadata": {
    "scrolled": true
   },
   "outputs": [
    {
     "data": {
      "text/plain": [
       "'# Create a ProfileReport\\nprofile = ProfileReport(final, title=\\'Pandas Profiling Report\\', explorative=True)\\n\\n# Save the report to an HTML file (optional)\\nprofile.to_file(\"output_report.html\")'"
      ]
     },
     "execution_count": 51,
     "metadata": {},
     "output_type": "execute_result"
    }
   ],
   "source": [
    "#!pip install pandas-profiling\n",
    "#!pip install --upgrade pandas pandas-profiling\n",
    "#!pip install ydata_profiling \n",
    "#from pandas_profiling import ProfileReport\n",
    "\"\"\"# Create a ProfileReport\n",
    "profile = ProfileReport(final, title='Pandas Profiling Report', explorative=True)\n",
    "\n",
    "# Save the report to an HTML file (optional)\n",
    "profile.to_file(\"output_report.html\")\"\"\""
   ]
  }
 ],
 "metadata": {
  "kernelspec": {
   "display_name": "Python 3 (ipykernel)",
   "language": "python",
   "name": "python3"
  },
  "language_info": {
   "codemirror_mode": {
    "name": "ipython",
    "version": 3
   },
   "file_extension": ".py",
   "mimetype": "text/x-python",
   "name": "python",
   "nbconvert_exporter": "python",
   "pygments_lexer": "ipython3",
   "version": "3.11.5"
  }
 },
 "nbformat": 4,
 "nbformat_minor": 5
}
